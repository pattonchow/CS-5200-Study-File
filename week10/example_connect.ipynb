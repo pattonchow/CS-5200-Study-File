{
 "cells": [
  {
   "cell_type": "code",
   "execution_count": null,
   "metadata": {},
   "outputs": [],
   "source": []
  },
  {
   "cell_type": "code",
   "execution_count": 2,
   "metadata": {},
   "outputs": [
    {
     "name": "stdout",
     "output_type": "stream",
     "text": [
      "{'character_name': 'Aragorn', 'species': 'human', 'homeland': 'gondor', 'royalty': 1, 'fellowship': 1, 'survive': 1, 'alias': 'strider', 'book_number_introduction': 1}\n",
      "{'character_name': 'Elrond', 'species': 'elf', 'homeland': 'rivendell', 'royalty': 1, 'fellowship': 0, 'survive': 1, 'alias': 'lord of rivendell', 'book_number_introduction': 1}\n",
      "{'character_name': 'Eowyn', 'species': 'human', 'homeland': 'rohan', 'royalty': 1, 'fellowship': 0, 'survive': 1, 'alias': 'white lady of rohan', 'book_number_introduction': 2}\n",
      "{'character_name': 'Faramir', 'species': 'human', 'homeland': 'gondor', 'royalty': 1, 'fellowship': 0, 'survive': 1, 'alias': 'captain of the white tower', 'book_number_introduction': 3}\n",
      "{'character_name': 'Frodo', 'species': 'hobbit', 'homeland': 'shire', 'royalty': 0, 'fellowship': 1, 'survive': 1, 'alias': 'bearer of the one ring', 'book_number_introduction': 1}\n",
      "{'character_name': 'Gandalf', 'species': 'maiar', 'homeland': 'undying lands', 'royalty': 0, 'fellowship': 1, 'survive': 1, 'alias': 'greybeard', 'book_number_introduction': 1}\n",
      "{'character_name': 'Gimli', 'species': 'dwarf', 'homeland': 'lonely mountain', 'royalty': 0, 'fellowship': 1, 'survive': 1, 'alias': 'lockbearer', 'book_number_introduction': 1}\n",
      "{'character_name': 'Legolas', 'species': 'elf', 'homeland': 'mirkwood', 'royalty': 1, 'fellowship': 1, 'survive': 1, 'alias': 'prince of the woodlands', 'book_number_introduction': 1}\n",
      "{'character_name': 'Saruman', 'species': 'maiar', 'homeland': 'isengard', 'royalty': 0, 'fellowship': 0, 'survive': 0, 'alias': 'saruman the white', 'book_number_introduction': 1}\n",
      "{'character_name': 'Sauron', 'species': 'maiar', 'homeland': 'mordor', 'royalty': 0, 'fellowship': 0, 'survive': 0, 'alias': 'dark lord', 'book_number_introduction': 1}\n"
     ]
    }
   ],
   "source": [
    "#!/usr/bin/env python\n",
    "# -*- coding: utf-8 -*-\n",
    "\n",
    "from collections import defaultdict\n",
    "\n",
    "import pymysql\n",
    "from array import array\n",
    "\n",
    "\n",
    "#!/usr/bin/env python\n",
    "# -*- coding: utf-8 -*-\n",
    "\n",
    "#%% Simple selector (MySQL database)\n",
    "# import mysql.connector needs to be installed pip install mysql-connector\n",
    "import pymysql\n",
    "import flask\n",
    "\n",
    "cnx = pymysql.connect(host='localhost', user='root', password='root1234',\n",
    "             db='lotrfinal',charset='utf8mb4',cursorclass=pymysql.cursors.DictCursor )\n",
    "\n",
    "\n",
    "\n",
    "cur = cnx.cursor()\n",
    "stmt_select = \"select * from lotr_character order by character_name\"\n",
    "\n",
    "cur.execute(stmt_select)\n",
    "\n",
    "for row in cur.fetchall():\n",
    "    print (row)\n",
    "cur.close()\n",
    "\n",
    "\n"
   ]
  },
  {
   "cell_type": "code",
   "execution_count": null,
   "metadata": {},
   "outputs": [],
   "source": []
  },
  {
   "cell_type": "code",
   "execution_count": null,
   "metadata": {},
   "outputs": [],
   "source": []
  }
 ],
 "metadata": {
  "kernelspec": {
   "display_name": "Python 3",
   "language": "python",
   "name": "python3"
  },
  "language_info": {
   "codemirror_mode": {
    "name": "ipython",
    "version": 3
   },
   "file_extension": ".py",
   "mimetype": "text/x-python",
   "name": "python",
   "nbconvert_exporter": "python",
   "pygments_lexer": "ipython3",
   "version": "3.7.6"
  }
 },
 "nbformat": 4,
 "nbformat_minor": 2
}
